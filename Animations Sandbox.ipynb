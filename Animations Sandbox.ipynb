{
 "cells": [
  {
   "cell_type": "markdown",
   "id": "a9c7cdb5",
   "metadata": {},
   "source": [
    "## Animations Sandbox"
   ]
  },
  {
   "cell_type": "code",
   "execution_count": 1,
   "id": "31e6f343",
   "metadata": {},
   "outputs": [
    {
     "data": {
      "text/plain": [
       "array(1)"
      ]
     },
     "execution_count": 1,
     "metadata": {},
     "output_type": "execute_result"
    }
   ],
   "source": [
    "import numpy as np\n",
    "np.cross([1, 1], [2, 3])"
   ]
  },
  {
   "cell_type": "code",
   "execution_count": 7,
   "id": "ae29c30f",
   "metadata": {},
   "outputs": [
    {
     "data": {
      "text/plain": [
       "array([0, 1, 2, 3, 4, 5])"
      ]
     },
     "execution_count": 7,
     "metadata": {},
     "output_type": "execute_result"
    }
   ],
   "source": [
    "np.arange(6)"
   ]
  },
  {
   "cell_type": "code",
   "execution_count": 19,
   "id": "def92e72",
   "metadata": {},
   "outputs": [
    {
     "data": {
      "text/plain": [
       "array([[0., 0.],\n",
       "       [0., 0.],\n",
       "       [0., 0.]])"
      ]
     },
     "execution_count": 19,
     "metadata": {},
     "output_type": "execute_result"
    }
   ],
   "source": [
    "pixels = np.zeros([3, 2])\n",
    "pixels"
   ]
  },
  {
   "cell_type": "code",
   "execution_count": 21,
   "id": "ea04dfb8",
   "metadata": {},
   "outputs": [
    {
     "data": {
      "text/plain": [
       "array([[1., 0.],\n",
       "       [0., 0.],\n",
       "       [0., 0.]])"
      ]
     },
     "execution_count": 21,
     "metadata": {},
     "output_type": "execute_result"
    }
   ],
   "source": [
    "pixels[0][0] = 1\n",
    "pixels"
   ]
  },
  {
   "cell_type": "code",
   "execution_count": 26,
   "id": "7465d503",
   "metadata": {},
   "outputs": [
    {
     "data": {
      "text/plain": [
       "array([[[1., 1., 1.],\n",
       "        [1., 1., 1.]],\n",
       "\n",
       "       [[1., 1., 1.],\n",
       "        [1., 1., 1.]]])"
      ]
     },
     "execution_count": 26,
     "metadata": {},
     "output_type": "execute_result"
    }
   ],
   "source": [
    "np.ones((2, 2, 3))"
   ]
  },
  {
   "cell_type": "code",
   "execution_count": 29,
   "id": "8e81a397",
   "metadata": {},
   "outputs": [
    {
     "data": {
      "text/plain": [
       "array([[[  0, 255,   0],\n",
       "        [  0, 255,   0],\n",
       "        [  0, 255,   0]],\n",
       "\n",
       "       [[  0, 255,   0],\n",
       "        [  0, 255,   0],\n",
       "        [  0, 255,   0]],\n",
       "\n",
       "       [[  0, 255,   0],\n",
       "        [  0, 255,   0],\n",
       "        [  0, 255,   0]]], dtype=uint8)"
      ]
     },
     "execution_count": 29,
     "metadata": {},
     "output_type": "execute_result"
    }
   ],
   "source": [
    "height, side = 3, 3\n",
    "pixels = np.zeros((int(height), int(side), 3), np.uint8)\n",
    "pixels[:] = (0, 255, 0)\n",
    "pixels"
   ]
  },
  {
   "cell_type": "code",
   "execution_count": 31,
   "id": "d63f1ca4",
   "metadata": {},
   "outputs": [
    {
     "data": {
      "text/plain": [
       "array([[[  3,   4,   5],\n",
       "        [  0, 255,   0],\n",
       "        [  0, 255,   0]],\n",
       "\n",
       "       [[  0, 255,   0],\n",
       "        [  0, 255,   0],\n",
       "        [  0, 255,   0]],\n",
       "\n",
       "       [[  0, 255,   0],\n",
       "        [  0, 255,   0],\n",
       "        [  0, 255,   0]]], dtype=uint8)"
      ]
     },
     "execution_count": 31,
     "metadata": {},
     "output_type": "execute_result"
    }
   ],
   "source": [
    "pixels[0][0] = (3, 4, 5)\n",
    "pixels"
   ]
  },
  {
   "cell_type": "code",
   "execution_count": 32,
   "id": "553db9b1",
   "metadata": {},
   "outputs": [
    {
     "data": {
      "text/plain": [
       "484.78790749999996"
      ]
     },
     "execution_count": 32,
     "metadata": {},
     "output_type": "execute_result"
    }
   ],
   "source": [
    "np.linalg.norm([499.21225409 -14.42434659])"
   ]
  },
  {
   "cell_type": "code",
   "execution_count": 33,
   "id": "164aef52",
   "metadata": {},
   "outputs": [
    {
     "data": {
      "text/plain": [
       "1"
      ]
     },
     "execution_count": 33,
     "metadata": {},
     "output_type": "execute_result"
    }
   ],
   "source": [
    "min(1, 2, 3)"
   ]
  },
  {
   "cell_type": "code",
   "execution_count": 2,
   "id": "08186383",
   "metadata": {},
   "outputs": [
    {
     "data": {
      "text/plain": [
       "[array([1, 1, 1]), array([4, 5, 6])]"
      ]
     },
     "execution_count": 2,
     "metadata": {},
     "output_type": "execute_result"
    }
   ],
   "source": [
    "import numpy as np\n",
    "l = [np.array([1, 1, 1]), np.array([4, 5, 6])]\n",
    "l = np.array(l).reshape()"
   ]
  },
  {
   "cell_type": "code",
   "execution_count": 29,
   "id": "e9b2884c",
   "metadata": {},
   "outputs": [
    {
     "name": "stdout",
     "output_type": "stream",
     "text": [
      "-6.0\n",
      "-5.0\n",
      "-4.0\n",
      "-3.0\n",
      "-2.0\n",
      "0.0\n",
      "1.0\n",
      "2.0\n",
      "3.0\n",
      "4.0\n",
      "5.0\n"
     ]
    }
   ],
   "source": [
    "halfwidth = 6 # total width is 12\n",
    "spacing = 1\n",
    "n_spaces = int(2*halfwidth/spacing)-1\n",
    "du = 0.1\n",
    "for u in np.arange(0, 1+du, du):\n",
    "    print(-halfwidth + np.round(u*n_spaces)*spacing)"
   ]
  },
  {
   "cell_type": "code",
   "execution_count": 7,
   "id": "2dae26e6",
   "metadata": {},
   "outputs": [
    {
     "data": {
      "text/plain": [
       "[-0.5, -0.09999999999999998, 0.30000000000000004, 0.7000000000000001]"
      ]
     },
     "execution_count": 7,
     "metadata": {},
     "output_type": "execute_result"
    }
   ],
   "source": [
    "[-0.5, -0.5+0.4, -0.5+0.8, -0.5+0.8+0.4]"
   ]
  },
  {
   "cell_type": "code",
   "execution_count": 6,
   "id": "973cf18e",
   "metadata": {},
   "outputs": [
    {
     "data": {
      "text/plain": [
       "array([0. , 0.5, 1. ])"
      ]
     },
     "execution_count": 6,
     "metadata": {},
     "output_type": "execute_result"
    }
   ],
   "source": [
    "np.linspace(0, 1, 3)"
   ]
  },
  {
   "cell_type": "code",
   "execution_count": 10,
   "id": "38de6548",
   "metadata": {},
   "outputs": [
    {
     "data": {
      "text/plain": [
       "array([5, 2])"
      ]
     },
     "execution_count": 10,
     "metadata": {},
     "output_type": "execute_result"
    }
   ],
   "source": [
    "R = np.array([\n",
    "    [1, 2],\n",
    "    [0, 1]\n",
    "])\n",
    "\n",
    "v = np.array([1, 2])\n",
    "np.dot(R, v)"
   ]
  },
  {
   "cell_type": "code",
   "execution_count": 11,
   "id": "f3681685",
   "metadata": {},
   "outputs": [
    {
     "ename": "ImportError",
     "evalue": "dlopen(/Library/Frameworks/Python.framework/Versions/3.10/lib/python3.10/site-packages/PIL/_imaging.cpython-310-darwin.so, 0x0002): tried: '/Library/Frameworks/Python.framework/Versions/3.10/lib/python3.10/site-packages/PIL/_imaging.cpython-310-darwin.so' (mach-o file, but is an incompatible architecture (have 'x86_64', need 'arm64e')), '/usr/lib/_imaging.cpython-310-darwin.so' (no such file)",
     "output_type": "error",
     "traceback": [
      "\u001b[0;31m---------------------------------------------------------------------------\u001b[0m",
      "\u001b[0;31mImportError\u001b[0m                               Traceback (most recent call last)",
      "Input \u001b[0;32mIn [11]\u001b[0m, in \u001b[0;36m<cell line: 2>\u001b[0;34m()\u001b[0m\n\u001b[1;32m      1\u001b[0m \u001b[38;5;28;01mimport\u001b[39;00m \u001b[38;5;21;01mos\u001b[39;00m\n\u001b[0;32m----> 2\u001b[0m \u001b[38;5;28;01mfrom\u001b[39;00m \u001b[38;5;21;01mPIL\u001b[39;00m \u001b[38;5;28;01mimport\u001b[39;00m Image\n\u001b[1;32m      4\u001b[0m \u001b[38;5;66;03m# Set the input and output directories\u001b[39;00m\n\u001b[1;32m      5\u001b[0m main_dir \u001b[38;5;241m=\u001b[39m \u001b[38;5;124m'\u001b[39m\u001b[38;5;124m/Users/adityaabhyankar/Desktop/Programming/Animations/output\u001b[39m\u001b[38;5;124m'\u001b[39m\n",
      "File \u001b[0;32m/Library/Frameworks/Python.framework/Versions/3.10/lib/python3.10/site-packages/PIL/Image.py:114\u001b[0m, in \u001b[0;36m<module>\u001b[0;34m\u001b[0m\n\u001b[1;32m    105\u001b[0m MAX_IMAGE_PIXELS \u001b[38;5;241m=\u001b[39m \u001b[38;5;28mint\u001b[39m(\u001b[38;5;241m1024\u001b[39m \u001b[38;5;241m*\u001b[39m \u001b[38;5;241m1024\u001b[39m \u001b[38;5;241m*\u001b[39m \u001b[38;5;241m1024\u001b[39m \u001b[38;5;241m/\u001b[39m\u001b[38;5;241m/\u001b[39m \u001b[38;5;241m4\u001b[39m \u001b[38;5;241m/\u001b[39m\u001b[38;5;241m/\u001b[39m \u001b[38;5;241m3\u001b[39m)\n\u001b[1;32m    108\u001b[0m \u001b[38;5;28;01mtry\u001b[39;00m:\n\u001b[1;32m    109\u001b[0m     \u001b[38;5;66;03m# If the _imaging C module is not present, Pillow will not load.\u001b[39;00m\n\u001b[1;32m    110\u001b[0m     \u001b[38;5;66;03m# Note that other modules should not refer to _imaging directly;\u001b[39;00m\n\u001b[1;32m    111\u001b[0m     \u001b[38;5;66;03m# import Image and use the Image.core variable instead.\u001b[39;00m\n\u001b[1;32m    112\u001b[0m     \u001b[38;5;66;03m# Also note that Image.core is not a publicly documented interface,\u001b[39;00m\n\u001b[1;32m    113\u001b[0m     \u001b[38;5;66;03m# and should be considered private and subject to change.\u001b[39;00m\n\u001b[0;32m--> 114\u001b[0m     \u001b[38;5;28;01mfrom\u001b[39;00m \u001b[38;5;21;01m.\u001b[39;00m \u001b[38;5;28;01mimport\u001b[39;00m _imaging \u001b[38;5;28;01mas\u001b[39;00m core\n\u001b[1;32m    116\u001b[0m     \u001b[38;5;28;01mif\u001b[39;00m __version__ \u001b[38;5;241m!=\u001b[39m \u001b[38;5;28mgetattr\u001b[39m(core, \u001b[38;5;124m\"\u001b[39m\u001b[38;5;124mPILLOW_VERSION\u001b[39m\u001b[38;5;124m\"\u001b[39m, \u001b[38;5;28;01mNone\u001b[39;00m):\n\u001b[1;32m    117\u001b[0m         \u001b[38;5;28;01mraise\u001b[39;00m \u001b[38;5;167;01mImportError\u001b[39;00m(\n\u001b[1;32m    118\u001b[0m             \u001b[38;5;124m\"\u001b[39m\u001b[38;5;124mThe _imaging extension was built for another version of Pillow or PIL:\u001b[39m\u001b[38;5;130;01m\\n\u001b[39;00m\u001b[38;5;124m\"\u001b[39m\n\u001b[1;32m    119\u001b[0m             \u001b[38;5;124mf\u001b[39m\u001b[38;5;124m\"\u001b[39m\u001b[38;5;124mCore version: \u001b[39m\u001b[38;5;132;01m{\u001b[39;00m\u001b[38;5;28mgetattr\u001b[39m(core, \u001b[38;5;124m'\u001b[39m\u001b[38;5;124mPILLOW_VERSION\u001b[39m\u001b[38;5;124m'\u001b[39m, \u001b[38;5;28;01mNone\u001b[39;00m)\u001b[38;5;132;01m}\u001b[39;00m\u001b[38;5;130;01m\\n\u001b[39;00m\u001b[38;5;124m\"\u001b[39m\n\u001b[1;32m    120\u001b[0m             \u001b[38;5;124mf\u001b[39m\u001b[38;5;124m\"\u001b[39m\u001b[38;5;124mPillow version: \u001b[39m\u001b[38;5;132;01m{\u001b[39;00m__version__\u001b[38;5;132;01m}\u001b[39;00m\u001b[38;5;124m\"\u001b[39m\n\u001b[1;32m    121\u001b[0m         )\n",
      "\u001b[0;31mImportError\u001b[0m: dlopen(/Library/Frameworks/Python.framework/Versions/3.10/lib/python3.10/site-packages/PIL/_imaging.cpython-310-darwin.so, 0x0002): tried: '/Library/Frameworks/Python.framework/Versions/3.10/lib/python3.10/site-packages/PIL/_imaging.cpython-310-darwin.so' (mach-o file, but is an incompatible architecture (have 'x86_64', need 'arm64e')), '/usr/lib/_imaging.cpython-310-darwin.so' (no such file)"
     ]
    }
   ],
   "source": [
    "import os\n",
    "from PIL import Image\n",
    "\n",
    "# Set the input and output directories\n",
    "main_dir = '/Users/adityaabhyankar/Desktop/Programming/Animations/output'\n",
    "ps_files_dir = main_dir + '/Postscript Frames'\n",
    "png_files_dir = main_dir + '/Png Frames'\n",
    "\n",
    "# Iterate over all the files in the input directory\n",
    "for filename in os.listdir(ps_dir):\n",
    "    if filename.endswith('.ps'):\n",
    "        # Open the PostScript file and create an Image object\n",
    "        with Image.open(os.path.join(ps_files_dir, filename)) as img:\n",
    "            # Convert the Image object to PNG format\n",
    "            png_filename = os.path.splitext(filename)[0] + '.png'\n",
    "            png_path = os.path.join(png_files_dir, png_filename)\n",
    "            img.convert('RGB').save(png_path)"
   ]
  },
  {
   "cell_type": "code",
   "execution_count": 7,
   "id": "e7e79d1d",
   "metadata": {},
   "outputs": [
    {
     "name": "stdout",
     "output_type": "stream",
     "text": [
      "Matrix : Matrix([[1, 0, -1, 0], [2, 0, -3, -1], [0, 2, 0, -1], [0, 1, 0, -1]]) \n",
      "The Row echelon form of matrix M and the pivot columns : (Matrix([\n",
      "[1, 0, 0, 0],\n",
      "[0, 1, 0, 0],\n",
      "[0, 0, 1, 0],\n",
      "[0, 0, 0, 1]]), (0, 1, 2, 3))\n"
     ]
    }
   ],
   "source": [
    "# import sympy\n",
    "from sympy import *\n",
    "\n",
    "M = Matrix([[1, 0, -1, 0],\n",
    "            [2, 0, -3, -1],\n",
    "            [0, 2, 0, -1],\n",
    "            [0, 1, 0, -1]])\n",
    "print(\"Matrix : {} \".format(M))\n",
    "\n",
    "# Use sympy.rref() method\n",
    "M_rref = M.rref()\n",
    "\t\n",
    "print(\"The Row echelon form of matrix M and the pivot columns : {}\".format(M_rref))\n",
    "\n",
    "\n",
    "# Conjecture: Chemical equation cannot be balanced iff the rref of the associated matrix is the identity cuz then the kernel is trivial."
   ]
  },
  {
   "cell_type": "code",
   "execution_count": 21,
   "id": "431bf257",
   "metadata": {},
   "outputs": [
    {
     "name": "stdout",
     "output_type": "stream",
     "text": [
      "Step 1:\n"
     ]
    },
    {
     "ename": "AttributeError",
     "evalue": "'One' object has no attribute 'tolist'",
     "output_type": "error",
     "traceback": [
      "\u001b[0;31m---------------------------------------------------------------------------\u001b[0m",
      "\u001b[0;31mAttributeError\u001b[0m                            Traceback (most recent call last)",
      "Input \u001b[0;32mIn [21]\u001b[0m, in \u001b[0;36m<cell line: 10>\u001b[0;34m()\u001b[0m\n\u001b[1;32m     10\u001b[0m \u001b[38;5;28;01mfor\u001b[39;00m i, step \u001b[38;5;129;01min\u001b[39;00m \u001b[38;5;28menumerate\u001b[39m(rref_steps):\n\u001b[1;32m     11\u001b[0m     \u001b[38;5;28mprint\u001b[39m(\u001b[38;5;124mf\u001b[39m\u001b[38;5;124m\"\u001b[39m\u001b[38;5;124mStep \u001b[39m\u001b[38;5;132;01m{\u001b[39;00mi\u001b[38;5;241m+\u001b[39m\u001b[38;5;241m1\u001b[39m\u001b[38;5;132;01m}\u001b[39;00m\u001b[38;5;124m:\u001b[39m\u001b[38;5;124m\"\u001b[39m)\n\u001b[0;32m---> 12\u001b[0m     \u001b[38;5;28;01mfor\u001b[39;00m row \u001b[38;5;129;01min\u001b[39;00m \u001b[43mstep\u001b[49m\u001b[38;5;241;43m.\u001b[39;49m\u001b[43mtolist\u001b[49m():\n\u001b[1;32m     13\u001b[0m         \u001b[38;5;28mprint\u001b[39m(\u001b[38;5;124m\"\u001b[39m\u001b[38;5;124m  \u001b[39m\u001b[38;5;124m\"\u001b[39m \u001b[38;5;241m+\u001b[39m \u001b[38;5;28mstr\u001b[39m(row))\n\u001b[1;32m     14\u001b[0m     \u001b[38;5;28mprint\u001b[39m()\n",
      "\u001b[0;31mAttributeError\u001b[0m: 'One' object has no attribute 'tolist'"
     ]
    }
   ],
   "source": [
    "import sympy as sp\n",
    "\n",
    "# Create the matrix\n",
    "A = sp.Matrix([[1, 2, 3, 0, 0, 0], [4, 5, 6, 0, 0, 0], [7, 8, 9, 0, 0, 0]])\n",
    "\n",
    "# Compute the reduced row echelon form with steps\n",
    "rref_steps = A.rref(simplify=True, pivots=False)\n",
    "\n",
    "# Print every step of the row reduction process\n",
    "for i, step in enumerate(rref_steps):\n",
    "    print(f\"Step {i+1}:\")\n",
    "    for row in step.tolist():\n",
    "        print(\"  \" + str(row))\n",
    "    print()\n",
    "    \n",
    "# Print the final reduced row echelon form\n",
    "print(\"Final result:\")\n",
    "for row in rref_steps.tolist():\n",
    "    print(\"  \" + str(row))\n"
   ]
  },
  {
   "cell_type": "code",
   "execution_count": 61,
   "id": "c200c9d7",
   "metadata": {},
   "outputs": [
    {
     "name": "stdout",
     "output_type": "stream",
     "text": [
      "Swap R1 <--> R5:\n",
      "3.00\t11.00\t0.00\t-2.00\t-2.00\t-3.00\n",
      "1.00\t0.00\t-2.00\t0.00\t0.00\t0.00\n",
      "0.00\t12.00\t0.00\t-1.00\t0.00\t-1.00\n",
      "0.00\t22.00\t0.00\t0.00\t-2.00\t0.00\n",
      "1.00\t0.00\t0.00\t0.00\t0.00\t-2.00\n",
      "\n",
      "R1 / 3 -> R1:\n",
      "1.00\t3.67\t0.00\t-0.67\t-0.67\t-1.00\n",
      "1.00\t0.00\t-2.00\t0.00\t0.00\t0.00\n",
      "0.00\t12.00\t0.00\t-1.00\t0.00\t-1.00\n",
      "0.00\t22.00\t0.00\t0.00\t-2.00\t0.00\n",
      "1.00\t0.00\t0.00\t0.00\t0.00\t-2.00\n",
      "\n",
      "R2 - (1)R1 -> R2:\n",
      "1.00\t3.67\t0.00\t-0.67\t-0.67\t-1.00\n",
      "0.00\t-3.67\t-2.00\t0.67\t0.67\t1.00\n",
      "0.00\t12.00\t0.00\t-1.00\t0.00\t-1.00\n",
      "0.00\t22.00\t0.00\t0.00\t-2.00\t0.00\n",
      "1.00\t0.00\t0.00\t0.00\t0.00\t-2.00\n",
      "\n",
      "R3 - (0)R1 -> R3:\n",
      "1.00\t3.67\t0.00\t-0.67\t-0.67\t-1.00\n",
      "0.00\t-3.67\t-2.00\t0.67\t0.67\t1.00\n",
      "0.00\t12.00\t0.00\t-1.00\t0.00\t-1.00\n",
      "0.00\t22.00\t0.00\t0.00\t-2.00\t0.00\n",
      "1.00\t0.00\t0.00\t0.00\t0.00\t-2.00\n",
      "\n",
      "R4 - (0)R1 -> R4:\n",
      "1.00\t3.67\t0.00\t-0.67\t-0.67\t-1.00\n",
      "0.00\t-3.67\t-2.00\t0.67\t0.67\t1.00\n",
      "0.00\t12.00\t0.00\t-1.00\t0.00\t-1.00\n",
      "0.00\t22.00\t0.00\t0.00\t-2.00\t0.00\n",
      "1.00\t0.00\t0.00\t0.00\t0.00\t-2.00\n",
      "\n",
      "R5 - (1)R1 -> R5:\n",
      "1.00\t3.67\t0.00\t-0.67\t-0.67\t-1.00\n",
      "0.00\t-3.67\t-2.00\t0.67\t0.67\t1.00\n",
      "0.00\t12.00\t0.00\t-1.00\t0.00\t-1.00\n",
      "0.00\t22.00\t0.00\t0.00\t-2.00\t0.00\n",
      "0.00\t-3.67\t0.00\t0.67\t0.67\t-1.00\n",
      "\n",
      "Swap R2 <--> R4:\n",
      "1.00\t3.67\t0.00\t-0.67\t-0.67\t-1.00\n",
      "0.00\t22.00\t0.00\t0.00\t-2.00\t0.00\n",
      "0.00\t12.00\t0.00\t-1.00\t0.00\t-1.00\n",
      "0.00\t-3.67\t-2.00\t0.67\t0.67\t1.00\n",
      "0.00\t-3.67\t0.00\t0.67\t0.67\t-1.00\n",
      "\n",
      "R2 / 22.0 -> R2:\n",
      "1.00\t3.67\t0.00\t-0.67\t-0.67\t-1.00\n",
      "0.00\t1.00\t0.00\t0.00\t-0.09\t0.00\n",
      "0.00\t12.00\t0.00\t-1.00\t0.00\t-1.00\n",
      "0.00\t-3.67\t-2.00\t0.67\t0.67\t1.00\n",
      "0.00\t-3.67\t0.00\t0.67\t0.67\t-1.00\n",
      "\n",
      "R1 - (3.6666666666666665)R2 -> R1:\n",
      "1.00\t0.00\t0.00\t-0.67\t-0.33\t-1.00\n",
      "0.00\t1.00\t0.00\t0.00\t-0.09\t0.00\n",
      "0.00\t12.00\t0.00\t-1.00\t0.00\t-1.00\n",
      "0.00\t-3.67\t-2.00\t0.67\t0.67\t1.00\n",
      "0.00\t-3.67\t0.00\t0.67\t0.67\t-1.00\n",
      "\n",
      "R3 - (12.0)R2 -> R3:\n",
      "1.00\t0.00\t0.00\t-0.67\t-0.33\t-1.00\n",
      "0.00\t1.00\t0.00\t0.00\t-0.09\t0.00\n",
      "0.00\t0.00\t0.00\t-1.00\t1.09\t-1.00\n",
      "0.00\t-3.67\t-2.00\t0.67\t0.67\t1.00\n",
      "0.00\t-3.67\t0.00\t0.67\t0.67\t-1.00\n",
      "\n",
      "R4 - (-3.6666666666666665)R2 -> R4:\n",
      "1.00\t0.00\t0.00\t-0.67\t-0.33\t-1.00\n",
      "0.00\t1.00\t0.00\t0.00\t-0.09\t0.00\n",
      "0.00\t0.00\t0.00\t-1.00\t1.09\t-1.00\n",
      "0.00\t0.00\t-2.00\t0.67\t0.33\t1.00\n",
      "0.00\t-3.67\t0.00\t0.67\t0.67\t-1.00\n",
      "\n",
      "R5 - (-3.6666666666666665)R2 -> R5:\n",
      "1.00\t0.00\t0.00\t-0.67\t-0.33\t-1.00\n",
      "0.00\t1.00\t0.00\t0.00\t-0.09\t0.00\n",
      "0.00\t0.00\t0.00\t-1.00\t1.09\t-1.00\n",
      "0.00\t0.00\t-2.00\t0.67\t0.33\t1.00\n",
      "0.00\t0.00\t0.00\t0.67\t0.33\t-1.00\n",
      "\n",
      "Swap R3 <--> R4:\n",
      "1.00\t0.00\t0.00\t-0.67\t-0.33\t-1.00\n",
      "0.00\t1.00\t0.00\t0.00\t-0.09\t0.00\n",
      "0.00\t0.00\t-2.00\t0.67\t0.33\t1.00\n",
      "0.00\t0.00\t0.00\t-1.00\t1.09\t-1.00\n",
      "0.00\t0.00\t0.00\t0.67\t0.33\t-1.00\n",
      "\n",
      "R3 / -2.0 -> R3:\n",
      "1.00\t0.00\t0.00\t-0.67\t-0.33\t-1.00\n",
      "0.00\t1.00\t0.00\t0.00\t-0.09\t0.00\n",
      "-0.00\t-0.00\t1.00\t-0.33\t-0.17\t-0.50\n",
      "0.00\t0.00\t0.00\t-1.00\t1.09\t-1.00\n",
      "0.00\t0.00\t0.00\t0.67\t0.33\t-1.00\n",
      "\n",
      "R1 - (0.0)R3 -> R1:\n",
      "1.00\t0.00\t0.00\t-0.67\t-0.33\t-1.00\n",
      "0.00\t1.00\t0.00\t0.00\t-0.09\t0.00\n",
      "-0.00\t-0.00\t1.00\t-0.33\t-0.17\t-0.50\n",
      "0.00\t0.00\t0.00\t-1.00\t1.09\t-1.00\n",
      "0.00\t0.00\t0.00\t0.67\t0.33\t-1.00\n",
      "\n",
      "R2 - (0.0)R3 -> R2:\n",
      "1.00\t0.00\t0.00\t-0.67\t-0.33\t-1.00\n",
      "0.00\t1.00\t0.00\t0.00\t-0.09\t0.00\n",
      "-0.00\t-0.00\t1.00\t-0.33\t-0.17\t-0.50\n",
      "0.00\t0.00\t0.00\t-1.00\t1.09\t-1.00\n",
      "0.00\t0.00\t0.00\t0.67\t0.33\t-1.00\n",
      "\n",
      "R4 - (0.0)R3 -> R4:\n",
      "1.00\t0.00\t0.00\t-0.67\t-0.33\t-1.00\n",
      "0.00\t1.00\t0.00\t0.00\t-0.09\t0.00\n",
      "-0.00\t-0.00\t1.00\t-0.33\t-0.17\t-0.50\n",
      "0.00\t0.00\t0.00\t-1.00\t1.09\t-1.00\n",
      "0.00\t0.00\t0.00\t0.67\t0.33\t-1.00\n",
      "\n",
      "R5 - (0.0)R3 -> R5:\n",
      "1.00\t0.00\t0.00\t-0.67\t-0.33\t-1.00\n",
      "0.00\t1.00\t0.00\t0.00\t-0.09\t0.00\n",
      "-0.00\t-0.00\t1.00\t-0.33\t-0.17\t-0.50\n",
      "0.00\t0.00\t0.00\t-1.00\t1.09\t-1.00\n",
      "0.00\t0.00\t0.00\t0.67\t0.33\t-1.00\n",
      "\n",
      "R4 / -1.0 -> R4:\n",
      "1.00\t0.00\t0.00\t-0.67\t-0.33\t-1.00\n",
      "0.00\t1.00\t0.00\t0.00\t-0.09\t0.00\n",
      "-0.00\t-0.00\t1.00\t-0.33\t-0.17\t-0.50\n",
      "-0.00\t-0.00\t-0.00\t1.00\t-1.09\t1.00\n",
      "0.00\t0.00\t0.00\t0.67\t0.33\t-1.00\n",
      "\n",
      "R1 - (-0.6666666666666666)R4 -> R1:\n",
      "1.00\t0.00\t0.00\t0.00\t-1.06\t-0.33\n",
      "0.00\t1.00\t0.00\t0.00\t-0.09\t0.00\n",
      "-0.00\t-0.00\t1.00\t-0.33\t-0.17\t-0.50\n",
      "-0.00\t-0.00\t-0.00\t1.00\t-1.09\t1.00\n",
      "0.00\t0.00\t0.00\t0.67\t0.33\t-1.00\n",
      "\n",
      "R2 - (0.0)R4 -> R2:\n",
      "1.00\t0.00\t0.00\t0.00\t-1.06\t-0.33\n",
      "0.00\t1.00\t0.00\t0.00\t-0.09\t0.00\n",
      "-0.00\t-0.00\t1.00\t-0.33\t-0.17\t-0.50\n",
      "-0.00\t-0.00\t-0.00\t1.00\t-1.09\t1.00\n",
      "0.00\t0.00\t0.00\t0.67\t0.33\t-1.00\n",
      "\n",
      "R3 - (-0.3333333333333333)R4 -> R3:\n",
      "1.00\t0.00\t0.00\t0.00\t-1.06\t-0.33\n",
      "0.00\t1.00\t0.00\t0.00\t-0.09\t0.00\n",
      "-0.00\t-0.00\t1.00\t0.00\t-0.53\t-0.17\n",
      "-0.00\t-0.00\t-0.00\t1.00\t-1.09\t1.00\n",
      "0.00\t0.00\t0.00\t0.67\t0.33\t-1.00\n",
      "\n",
      "R5 - (0.6666666666666666)R4 -> R5:\n",
      "1.00\t0.00\t0.00\t0.00\t-1.06\t-0.33\n",
      "0.00\t1.00\t0.00\t0.00\t-0.09\t0.00\n",
      "-0.00\t-0.00\t1.00\t0.00\t-0.53\t-0.17\n",
      "-0.00\t-0.00\t-0.00\t1.00\t-1.09\t1.00\n",
      "0.00\t0.00\t0.00\t0.00\t1.06\t-1.67\n",
      "\n",
      "R5 / 1.0606060606060606 -> R5:\n",
      "1.00\t0.00\t0.00\t0.00\t-1.06\t-0.33\n",
      "0.00\t1.00\t0.00\t0.00\t-0.09\t0.00\n",
      "-0.00\t-0.00\t1.00\t0.00\t-0.53\t-0.17\n",
      "-0.00\t-0.00\t-0.00\t1.00\t-1.09\t1.00\n",
      "0.00\t0.00\t0.00\t0.00\t1.00\t-1.57\n",
      "\n",
      "R1 - (-1.0606060606060606)R5 -> R1:\n",
      "1.00\t0.00\t0.00\t0.00\t0.00\t-2.00\n",
      "0.00\t1.00\t0.00\t0.00\t-0.09\t0.00\n",
      "-0.00\t-0.00\t1.00\t0.00\t-0.53\t-0.17\n",
      "-0.00\t-0.00\t-0.00\t1.00\t-1.09\t1.00\n",
      "0.00\t0.00\t0.00\t0.00\t1.00\t-1.57\n",
      "\n",
      "R2 - (-0.09090909090909091)R5 -> R2:\n",
      "1.00\t0.00\t0.00\t0.00\t0.00\t-2.00\n",
      "0.00\t1.00\t0.00\t0.00\t0.00\t-0.14\n",
      "-0.00\t-0.00\t1.00\t0.00\t-0.53\t-0.17\n",
      "-0.00\t-0.00\t-0.00\t1.00\t-1.09\t1.00\n",
      "0.00\t0.00\t0.00\t0.00\t1.00\t-1.57\n",
      "\n",
      "R3 - (-0.5303030303030303)R5 -> R3:\n",
      "1.00\t0.00\t0.00\t0.00\t0.00\t-2.00\n",
      "0.00\t1.00\t0.00\t0.00\t0.00\t-0.14\n",
      "0.00\t0.00\t1.00\t0.00\t0.00\t-1.00\n",
      "-0.00\t-0.00\t-0.00\t1.00\t-1.09\t1.00\n",
      "0.00\t0.00\t0.00\t0.00\t1.00\t-1.57\n",
      "\n",
      "R4 - (-1.0909090909090908)R5 -> R4:\n",
      "1.00\t0.00\t0.00\t0.00\t0.00\t-2.00\n",
      "0.00\t1.00\t0.00\t0.00\t0.00\t-0.14\n",
      "0.00\t0.00\t1.00\t0.00\t0.00\t-1.00\n",
      "0.00\t0.00\t0.00\t1.00\t0.00\t-0.71\n",
      "0.00\t0.00\t0.00\t0.00\t1.00\t-1.57\n",
      "\n",
      "Row-reduced echelon form:\n",
      "1.00\t0.00\t0.00\t0.00\t0.00\t-2.00\n",
      "0.00\t1.00\t0.00\t0.00\t0.00\t-0.14\n",
      "0.00\t0.00\t1.00\t0.00\t0.00\t-1.00\n",
      "0.00\t0.00\t0.00\t1.00\t0.00\t-0.71\n",
      "0.00\t0.00\t0.00\t0.00\t1.00\t-1.57\n",
      "\n"
     ]
    }
   ],
   "source": [
    "\n",
    "# \n",
    "#  WRITTEN BY ChatGPT IN ENTIRETY\n",
    "#\n",
    "\n",
    "def print_row(row, index):\n",
    "    \"\"\"Prints the row with an index label.\"\"\"\n",
    "    print(f\"R{index + 1} {row}\")\n",
    "    \n",
    "# def row_reduce(matrix):\n",
    "#     num_rows = len(matrix)\n",
    "#     num_cols = len(matrix[0])\n",
    "    \n",
    "#     reduced_matrix = [row[:] for row in matrix]\n",
    "    \n",
    "#     for j in range(num_cols):\n",
    "#         # Find the pivot row\n",
    "#         pivot_row = max(range(j, num_rows), key=lambda i: abs(reduced_matrix[i][j]), default=None)\n",
    "        \n",
    "#         # If the maximum value in the column is 0, move on to the next column\n",
    "#         if pivot_row is None or reduced_matrix[pivot_row][j] == 0:\n",
    "#             continue\n",
    "        \n",
    "#         # Swap the pivot row with the current row if necessary\n",
    "#         if pivot_row != j:\n",
    "#             reduced_matrix[j], reduced_matrix[pivot_row] = reduced_matrix[pivot_row], reduced_matrix[j]\n",
    "#             print(f\"Swap R{j+1} <--> R{pivot_row+1}:\")\n",
    "#             print_matrix(reduced_matrix)\n",
    "        \n",
    "#         # Scale the current row so that the pivot is 1\n",
    "#         pivot = reduced_matrix[j][j]\n",
    "#         reduced_matrix[j] = [reduced_matrix[j][k] / pivot for k in range(num_cols)]\n",
    "#         print(f\"R{j+1} / {pivot} -> R{j+1}:\")\n",
    "#         print_matrix(reduced_matrix)\n",
    "        \n",
    "#         # Eliminate the pivot from all other rows\n",
    "#         for i in range(num_rows):\n",
    "#             if i != j:\n",
    "#                 factor = reduced_matrix[i][j]\n",
    "#                 reduced_matrix[i] = [reduced_matrix[i][k] - factor * reduced_matrix[j][k] for k in range(num_cols)]\n",
    "#                 print(f\"R{i+1} - ({factor})R{j+1} -> R{i+1}:\")\n",
    "#                 print_matrix(reduced_matrix)\n",
    "        \n",
    "#     return reduced_matrix\n",
    "\n",
    "from fractions import Fraction\n",
    "\n",
    "from fractions import Fraction\n",
    "\n",
    "def format_value(val):\n",
    "    return str(Fraction(val).limit_denominator())\n",
    "\n",
    "from fractions import Fraction\n",
    "\n",
    "def print_matrix(matrix):\n",
    "    for row in matrix:\n",
    "        print('\\t'.join(str(Fraction(val).limit_denominator()) for val in row))\n",
    "    print('')\n",
    "\n",
    "\n",
    "def row_reduce(matrix):\n",
    "    num_rows = len(matrix)\n",
    "    num_cols = len(matrix[0])\n",
    "\n",
    "    reduced_matrix = [row[:] for row in matrix]\n",
    "\n",
    "    for j in range(num_cols):\n",
    "        # Find the pivot row\n",
    "        pivot_row = max(range(j, num_rows), key=lambda i: abs(reduced_matrix[i][j]), default=None)\n",
    "\n",
    "        # If the maximum value in the column is 0, move on to the next column\n",
    "        if pivot_row is None or reduced_matrix[pivot_row][j] == 0:\n",
    "            continue\n",
    "\n",
    "        # Swap the pivot row with the current row if necessary\n",
    "        if pivot_row != j:\n",
    "            reduced_matrix[j], reduced_matrix[pivot_row] = reduced_matrix[pivot_row], reduced_matrix[j]\n",
    "            print(f\"Swap R{j+1} <--> R{pivot_row+1}:\")\n",
    "            print_matrix(reduced_matrix)\n",
    "\n",
    "        # Scale the current row so that the pivot is 1\n",
    "        pivot = reduced_matrix[j][j]\n",
    "        reduced_matrix[j] = [reduced_matrix[j][k] / pivot for k in range(num_cols)]\n",
    "        print(f\"R{j+1} / {pivot} -> R{j+1}:\")\n",
    "        print_matrix(reduced_matrix)\n",
    "\n",
    "        # Eliminate the pivot from all other rows\n",
    "        for i in range(num_rows):\n",
    "            if i != j:\n",
    "                factor = reduced_matrix[i][j]\n",
    "                reduced_matrix[i] = [reduced_matrix[i][k] - factor * reduced_matrix[j][k] for k in range(num_cols)]\n",
    "                print(f\"R{i+1} - ({factor})R{j+1} -> R{i+1}:\")\n",
    "                print_matrix(reduced_matrix)\n",
    "\n",
    "    return reduced_matrix\n",
    "\n",
    "\n",
    "\n",
    "\n",
    "\n",
    "\n",
    "\n",
    "def print_matrix(matrix):\n",
    "    for row in matrix:\n",
    "        print('\\t'.join('{:.2f}'.format(val) for val in row))\n",
    "    print('')\n",
    "\n",
    "# Example usage\n",
    "matrix = [\n",
    "    [1, 0, 0, 0, 0, -2],  # K\n",
    "    [1, 0, -2, 0, 0, 0],  # N\n",
    "    [0, 12, 0, -1, 0, -1],  # C\n",
    "    [0, 22, 0, 0, -2, 0],  # H\n",
    "    [3, 11, 0, -2, -2, -3]  # O\n",
    "]\n",
    "\n",
    "# matrix = [\n",
    "#     [1, 0, -1, 0],\n",
    "#     [2, 0, -3, -1],\n",
    "#     [0, 2, 0, -1],\n",
    "#     [0, 1, 0, -1]\n",
    "# ]\n",
    "\n",
    "\n",
    "\n",
    "\n",
    "\n",
    "reduced_matrix = row_reduce(matrix)\n",
    "\n",
    "if reduced_matrix is not None:\n",
    "    print(\"Row-reduced echelon form:\")\n",
    "    print_matrix(reduced_matrix)\n"
   ]
  },
  {
   "cell_type": "code",
   "execution_count": 2,
   "id": "eaf739b2",
   "metadata": {},
   "outputs": [
    {
     "name": "stdout",
     "output_type": "stream",
     "text": [
      "Row-reduced echelon form:\n",
      "\n",
      "[[1.00, 0.00, 0.00, 0.00, -2.00, 0.33]\n",
      " [0.00, 1.00, 0.00, 0.00, 0.00, -0.33]\n",
      " [0.00, 0.00, 1.00, 0.00, -1.00, 0.00]\n",
      " [0.00, 0.00, 0.00, 1.00, -1.00, 0.00]]\n",
      "\n",
      "\n",
      "[[ 0.75290675 -0.14890442]\n",
      " [ 0.00664557  0.30959045]\n",
      " [ 0.37977616  0.08034302]\n",
      " [ 0.37977616  0.08034302]\n",
      " [ 0.37977616  0.08034302]\n",
      " [ 0.01993671  0.92877135]]\n",
      "\n",
      "\n",
      "[4.36853607 0.34946387 2.35899997 2.35899997 2.35899997 1.04839162] 6.082762530298219\n",
      "done\n"
     ]
    }
   ],
   "source": [
    "import sympy\n",
    "import numpy as np\n",
    "\n",
    "# Define the matrix\n",
    "# matrix = sympy.Matrix([\n",
    "#     [1, 0, 0, 0, 0, -2],  # K\n",
    "#     [1, 0, -2, 0, 0, 0],  # N\n",
    "#     [0, 12, 0, -1, 0, -1],  # C\n",
    "#     [0, 22, 0, 0, -2, 0],  # H\n",
    "#     [3, 11, 0, -2, -2, -3]  # O\n",
    "# ])\n",
    "matrix = sympy.Matrix([\n",
    "    [1, 1, 0, 0, -2, 0],\n",
    "    [1, 1, 0, -2, 0, 0],\n",
    "    [0, 3, 4, 0, -4, -1],\n",
    "    [0, 0, 1, 0, -1, 0]\n",
    "])\n",
    "\n",
    "from scipy.linalg import null_space\n",
    "\n",
    "\n",
    "\n",
    "\n",
    "# Compute the row-reduced echelon form\n",
    "rref, pivots = matrix.rref()\n",
    "\n",
    "# Format the result as a matrix\n",
    "num_rows, num_cols = rref.shape\n",
    "result = \"[\"\n",
    "for i in range(num_rows):\n",
    "    result += \"[\"\n",
    "    for j in range(num_cols):\n",
    "        result += f\"{rref[i, j]:.2f}\"\n",
    "        if j < num_cols - 1:\n",
    "            result += \", \"\n",
    "    result += \"]\"\n",
    "    if i < num_rows - 1:\n",
    "        result += \"\\n \"\n",
    "result += \"]\"\n",
    "\n",
    "# Print the result\n",
    "print(\"Row-reduced echelon form:\\n\")\n",
    "print(result)\n",
    "print()\n",
    "print()\n",
    "\n",
    "matrix = np.array(matrix).astype(np.float64)\n",
    "ns = null_space(matrix)\n",
    "print(ns)\n",
    "print()\n",
    "print()\n",
    "\n",
    "minimum = 10000\n",
    "min_val = None\n",
    "for i in range(1, 500):\n",
    "    for j in range(1, 500):\n",
    "        combo = (i * ns.T[0]) + (j * ns.T[1])\n",
    "        \n",
    "        norm = np.linalg.norm(combo)\n",
    "        ints = True\n",
    "        for c in np.reshape(combo, (1, np.size(combo)))[0]:\n",
    "            ints = ints and (np.round(c) - c) < 0.001\n",
    "            \n",
    "        if norm < minimum and ints:\n",
    "            minimum = norm\n",
    "            min_val = combo\n",
    "            \n",
    "print(min_val, minimum)\n",
    "print('done')"
   ]
  },
  {
   "cell_type": "markdown",
   "id": "bb75cebc",
   "metadata": {},
   "source": [
    "\n",
    "\n",
    "\n",
    "________\n",
    "x5 = t\n",
    "x4 = 1.57t\n",
    "x3 = t\n",
    "x2 = 0.14t\n",
    "x1 = 2t\n",
    "\n",
    "<=>\n",
    "\n",
    "x = t * (2, 0.14, 1, 1.57, 1)^T\n",
    "200, 140, 100, 156, 100"
   ]
  },
  {
   "cell_type": "code",
   "execution_count": 64,
   "id": "1e9d511b",
   "metadata": {},
   "outputs": [
    {
     "data": {
      "text/plain": [
       "array([[ 0.70710678],\n",
       "       [-0.70710678]])"
      ]
     },
     "execution_count": 64,
     "metadata": {},
     "output_type": "execute_result"
    }
   ],
   "source": [
    "import numpy as np\n",
    "from scipy.linalg import null_space\n",
    "A = np.array([[1, 1], [1, 1]])\n",
    "ns = null_space(A)\n",
    "ns * np.sign(ns[0,0])  # Remove the sign ambiguity of the vector"
   ]
  },
  {
   "cell_type": "code",
   "execution_count": 105,
   "id": "8b1cf69c",
   "metadata": {},
   "outputs": [
    {
     "data": {
      "text/plain": [
       "array([ 0.75290675, -0.14890442,  0.00664557,  0.30959045,  0.37977616,\n",
       "        0.08034302,  0.37977616,  0.08034302,  0.37977616,  0.08034302,\n",
       "        0.01993671,  0.92877135])"
      ]
     },
     "execution_count": 105,
     "metadata": {},
     "output_type": "execute_result"
    }
   ],
   "source": [
    "mat = [[ 0.75290675, -0.14890442],\n",
    "      [ 0.00664557,  0.30959045],\n",
    "      [ 0.37977616,  0.08034302],\n",
    "      [ 0.37977616,  0.08034302],\n",
    "      [ 0.37977616,  0.08034302],\n",
    "      [ 0.01993671,  0.92877135]]\n",
    "\n",
    "np.reshape(mat, (1, np.size(mat)))[0]"
   ]
  },
  {
   "cell_type": "code",
   "execution_count": 107,
   "id": "f66873c7",
   "metadata": {},
   "outputs": [
    {
     "data": {
      "text/plain": [
       "6.0"
      ]
     },
     "execution_count": 107,
     "metadata": {},
     "output_type": "execute_result"
    }
   ],
   "source": [
    "np.round(5.5)"
   ]
  },
  {
   "cell_type": "code",
   "execution_count": 14,
   "id": "ad3ebad9",
   "metadata": {},
   "outputs": [
    {
     "name": "stdout",
     "output_type": "stream",
     "text": [
      "[[1.]\n",
      " [1.]\n",
      " [1.]\n",
      " [3.]]\n"
     ]
    }
   ],
   "source": [
    "matrix = sympy.Matrix([\n",
    "    [1, 0, -1, 0],\n",
    "    [6, 0, 0, -2],\n",
    "    [0, 2, -2, 0],\n",
    "])\n",
    "matrix = np.array(matrix).astype(np.float64)\n",
    "ns = null_space(matrix)\n",
    "print(ns / ns[0])"
   ]
  },
  {
   "cell_type": "code",
   "execution_count": 25,
   "id": "8f15cb09",
   "metadata": {},
   "outputs": [
    {
     "name": "stdout",
     "output_type": "stream",
     "text": [
      "[[0.02921031]\n",
      " [0.35052374]\n",
      " [0.61341655]\n",
      " [0.02921031]\n",
      " [0.61341655]\n",
      " [0.35052374]]\n"
     ]
    }
   ],
   "source": [
    "matrix = sympy.Matrix([\n",
    "    [3, 8, 1, -12, -4, -2],\n",
    "    [1, 0, 0, -1, 0, 0],\n",
    "    [4, 4, 3, -40, -3, -1],\n",
    "    [0, 2, 1, -3, -2, 0],\n",
    "    [0, 1, 0, -12, 0, 0],\n",
    "])\n",
    "matrix = np.array(matrix).astype(np.float64)\n",
    "ns = null_space(matrix)\n",
    "print(ns)"
   ]
  },
  {
   "cell_type": "code",
   "execution_count": 28,
   "id": "00b1da62",
   "metadata": {},
   "outputs": [
    {
     "data": {
      "text/plain": [
       "(3602879701896397, 18014398509481984)"
      ]
     },
     "execution_count": 28,
     "metadata": {},
     "output_type": "execute_result"
    }
   ],
   "source": [
    "(0.2).as_integer_ratio()"
   ]
  },
  {
   "cell_type": "code",
   "execution_count": 43,
   "id": "8cee52af",
   "metadata": {},
   "outputs": [
    {
     "data": {
      "text/plain": [
       "Fraction(49, 2)"
      ]
     },
     "execution_count": 43,
     "metadata": {},
     "output_type": "execute_result"
    }
   ],
   "source": [
    "from fractions import Fraction\n",
    "Fraction(24.5).limit_denominator()"
   ]
  },
  {
   "cell_type": "markdown",
   "id": "18785e7f",
   "metadata": {},
   "source": [
    "STEPS:\n",
    "\n",
    "First get the main computational procedure down (below), then worry about the animation (next).\n",
    "1. Given chemical formula (decide what's a valid input), convert it to matrix\n",
    "2. Show the steps used to get to RREF. \n",
    "3. Show how to use the RREF to compute a basis for the null space.  (https://marksmath.org/classes/Fall2019LinearAlgebra/demos/null_space_basis.html)\n",
    "4. Use the Fractions class and norm minimization to compute the solution vector."
   ]
  },
  {
   "cell_type": "code",
   "execution_count": 44,
   "id": "1b15c886",
   "metadata": {},
   "outputs": [
    {
     "name": "stdout",
     "output_type": "stream",
     "text": [
      "Swap R1 <--> R3:\n",
      "4.00\t4.00\t3.00\t-40.00\t-3.00\t-1.00\n",
      "1.00\t0.00\t0.00\t-1.00\t0.00\t0.00\n",
      "3.00\t8.00\t1.00\t-12.00\t-4.00\t-2.00\n",
      "0.00\t2.00\t1.00\t-3.00\t-2.00\t0.00\n",
      "0.00\t1.00\t0.00\t-12.00\t0.00\t0.00\n",
      "\n",
      "R1 / 4 -> R1:\n",
      "1.00\t1.00\t0.75\t-10.00\t-0.75\t-0.25\n",
      "1.00\t0.00\t0.00\t-1.00\t0.00\t0.00\n",
      "3.00\t8.00\t1.00\t-12.00\t-4.00\t-2.00\n",
      "0.00\t2.00\t1.00\t-3.00\t-2.00\t0.00\n",
      "0.00\t1.00\t0.00\t-12.00\t0.00\t0.00\n",
      "\n",
      "R2 - (1)R1 -> R2:\n",
      "1.00\t1.00\t0.75\t-10.00\t-0.75\t-0.25\n",
      "0.00\t-1.00\t-0.75\t9.00\t0.75\t0.25\n",
      "3.00\t8.00\t1.00\t-12.00\t-4.00\t-2.00\n",
      "0.00\t2.00\t1.00\t-3.00\t-2.00\t0.00\n",
      "0.00\t1.00\t0.00\t-12.00\t0.00\t0.00\n",
      "\n",
      "R3 - (3)R1 -> R3:\n",
      "1.00\t1.00\t0.75\t-10.00\t-0.75\t-0.25\n",
      "0.00\t-1.00\t-0.75\t9.00\t0.75\t0.25\n",
      "0.00\t5.00\t-1.25\t18.00\t-1.75\t-1.25\n",
      "0.00\t2.00\t1.00\t-3.00\t-2.00\t0.00\n",
      "0.00\t1.00\t0.00\t-12.00\t0.00\t0.00\n",
      "\n",
      "R4 - (0)R1 -> R4:\n",
      "1.00\t1.00\t0.75\t-10.00\t-0.75\t-0.25\n",
      "0.00\t-1.00\t-0.75\t9.00\t0.75\t0.25\n",
      "0.00\t5.00\t-1.25\t18.00\t-1.75\t-1.25\n",
      "0.00\t2.00\t1.00\t-3.00\t-2.00\t0.00\n",
      "0.00\t1.00\t0.00\t-12.00\t0.00\t0.00\n",
      "\n",
      "R5 - (0)R1 -> R5:\n",
      "1.00\t1.00\t0.75\t-10.00\t-0.75\t-0.25\n",
      "0.00\t-1.00\t-0.75\t9.00\t0.75\t0.25\n",
      "0.00\t5.00\t-1.25\t18.00\t-1.75\t-1.25\n",
      "0.00\t2.00\t1.00\t-3.00\t-2.00\t0.00\n",
      "0.00\t1.00\t0.00\t-12.00\t0.00\t0.00\n",
      "\n",
      "Swap R2 <--> R3:\n",
      "1.00\t1.00\t0.75\t-10.00\t-0.75\t-0.25\n",
      "0.00\t5.00\t-1.25\t18.00\t-1.75\t-1.25\n",
      "0.00\t-1.00\t-0.75\t9.00\t0.75\t0.25\n",
      "0.00\t2.00\t1.00\t-3.00\t-2.00\t0.00\n",
      "0.00\t1.00\t0.00\t-12.00\t0.00\t0.00\n",
      "\n",
      "R2 / 5.0 -> R2:\n",
      "1.00\t1.00\t0.75\t-10.00\t-0.75\t-0.25\n",
      "0.00\t1.00\t-0.25\t3.60\t-0.35\t-0.25\n",
      "0.00\t-1.00\t-0.75\t9.00\t0.75\t0.25\n",
      "0.00\t2.00\t1.00\t-3.00\t-2.00\t0.00\n",
      "0.00\t1.00\t0.00\t-12.00\t0.00\t0.00\n",
      "\n",
      "R1 - (1.0)R2 -> R1:\n",
      "1.00\t0.00\t1.00\t-13.60\t-0.40\t0.00\n",
      "0.00\t1.00\t-0.25\t3.60\t-0.35\t-0.25\n",
      "0.00\t-1.00\t-0.75\t9.00\t0.75\t0.25\n",
      "0.00\t2.00\t1.00\t-3.00\t-2.00\t0.00\n",
      "0.00\t1.00\t0.00\t-12.00\t0.00\t0.00\n",
      "\n",
      "R3 - (-1.0)R2 -> R3:\n",
      "1.00\t0.00\t1.00\t-13.60\t-0.40\t0.00\n",
      "0.00\t1.00\t-0.25\t3.60\t-0.35\t-0.25\n",
      "0.00\t0.00\t-1.00\t12.60\t0.40\t0.00\n",
      "0.00\t2.00\t1.00\t-3.00\t-2.00\t0.00\n",
      "0.00\t1.00\t0.00\t-12.00\t0.00\t0.00\n",
      "\n",
      "R4 - (2.0)R2 -> R4:\n",
      "1.00\t0.00\t1.00\t-13.60\t-0.40\t0.00\n",
      "0.00\t1.00\t-0.25\t3.60\t-0.35\t-0.25\n",
      "0.00\t0.00\t-1.00\t12.60\t0.40\t0.00\n",
      "0.00\t0.00\t1.50\t-10.20\t-1.30\t0.50\n",
      "0.00\t1.00\t0.00\t-12.00\t0.00\t0.00\n",
      "\n",
      "R5 - (1.0)R2 -> R5:\n",
      "1.00\t0.00\t1.00\t-13.60\t-0.40\t0.00\n",
      "0.00\t1.00\t-0.25\t3.60\t-0.35\t-0.25\n",
      "0.00\t0.00\t-1.00\t12.60\t0.40\t0.00\n",
      "0.00\t0.00\t1.50\t-10.20\t-1.30\t0.50\n",
      "0.00\t0.00\t0.25\t-15.60\t0.35\t0.25\n",
      "\n",
      "Swap R3 <--> R4:\n",
      "1.00\t0.00\t1.00\t-13.60\t-0.40\t0.00\n",
      "0.00\t1.00\t-0.25\t3.60\t-0.35\t-0.25\n",
      "0.00\t0.00\t1.50\t-10.20\t-1.30\t0.50\n",
      "0.00\t0.00\t-1.00\t12.60\t0.40\t0.00\n",
      "0.00\t0.00\t0.25\t-15.60\t0.35\t0.25\n",
      "\n",
      "R3 / 1.5 -> R3:\n",
      "1.00\t0.00\t1.00\t-13.60\t-0.40\t0.00\n",
      "0.00\t1.00\t-0.25\t3.60\t-0.35\t-0.25\n",
      "0.00\t0.00\t1.00\t-6.80\t-0.87\t0.33\n",
      "0.00\t0.00\t-1.00\t12.60\t0.40\t0.00\n",
      "0.00\t0.00\t0.25\t-15.60\t0.35\t0.25\n",
      "\n",
      "R1 - (1.0)R3 -> R1:\n",
      "1.00\t0.00\t0.00\t-6.80\t0.47\t-0.33\n",
      "0.00\t1.00\t-0.25\t3.60\t-0.35\t-0.25\n",
      "0.00\t0.00\t1.00\t-6.80\t-0.87\t0.33\n",
      "0.00\t0.00\t-1.00\t12.60\t0.40\t0.00\n",
      "0.00\t0.00\t0.25\t-15.60\t0.35\t0.25\n",
      "\n",
      "R2 - (-0.25)R3 -> R2:\n",
      "1.00\t0.00\t0.00\t-6.80\t0.47\t-0.33\n",
      "0.00\t1.00\t0.00\t1.90\t-0.57\t-0.17\n",
      "0.00\t0.00\t1.00\t-6.80\t-0.87\t0.33\n",
      "0.00\t0.00\t-1.00\t12.60\t0.40\t0.00\n",
      "0.00\t0.00\t0.25\t-15.60\t0.35\t0.25\n",
      "\n",
      "R4 - (-1.0)R3 -> R4:\n",
      "1.00\t0.00\t0.00\t-6.80\t0.47\t-0.33\n",
      "0.00\t1.00\t0.00\t1.90\t-0.57\t-0.17\n",
      "0.00\t0.00\t1.00\t-6.80\t-0.87\t0.33\n",
      "0.00\t0.00\t0.00\t5.80\t-0.47\t0.33\n",
      "0.00\t0.00\t0.25\t-15.60\t0.35\t0.25\n",
      "\n",
      "R5 - (0.25)R3 -> R5:\n",
      "1.00\t0.00\t0.00\t-6.80\t0.47\t-0.33\n",
      "0.00\t1.00\t0.00\t1.90\t-0.57\t-0.17\n",
      "0.00\t0.00\t1.00\t-6.80\t-0.87\t0.33\n",
      "0.00\t0.00\t0.00\t5.80\t-0.47\t0.33\n",
      "0.00\t0.00\t0.00\t-13.90\t0.57\t0.17\n",
      "\n",
      "Swap R4 <--> R5:\n",
      "1.00\t0.00\t0.00\t-6.80\t0.47\t-0.33\n",
      "0.00\t1.00\t0.00\t1.90\t-0.57\t-0.17\n",
      "0.00\t0.00\t1.00\t-6.80\t-0.87\t0.33\n",
      "0.00\t0.00\t0.00\t-13.90\t0.57\t0.17\n",
      "0.00\t0.00\t0.00\t5.80\t-0.47\t0.33\n",
      "\n",
      "R4 / -13.9 -> R4:\n",
      "1.00\t0.00\t0.00\t-6.80\t0.47\t-0.33\n",
      "0.00\t1.00\t0.00\t1.90\t-0.57\t-0.17\n",
      "0.00\t0.00\t1.00\t-6.80\t-0.87\t0.33\n",
      "-0.00\t-0.00\t-0.00\t1.00\t-0.04\t-0.01\n",
      "0.00\t0.00\t0.00\t5.80\t-0.47\t0.33\n",
      "\n",
      "R1 - (-6.8)R4 -> R1:\n",
      "1.00\t0.00\t0.00\t0.00\t0.19\t-0.41\n",
      "0.00\t1.00\t0.00\t1.90\t-0.57\t-0.17\n",
      "0.00\t0.00\t1.00\t-6.80\t-0.87\t0.33\n",
      "-0.00\t-0.00\t-0.00\t1.00\t-0.04\t-0.01\n",
      "0.00\t0.00\t0.00\t5.80\t-0.47\t0.33\n",
      "\n",
      "R2 - (1.9000000000000001)R4 -> R2:\n",
      "1.00\t0.00\t0.00\t0.00\t0.19\t-0.41\n",
      "0.00\t1.00\t0.00\t0.00\t-0.49\t-0.14\n",
      "0.00\t0.00\t1.00\t-6.80\t-0.87\t0.33\n",
      "-0.00\t-0.00\t-0.00\t1.00\t-0.04\t-0.01\n",
      "0.00\t0.00\t0.00\t5.80\t-0.47\t0.33\n",
      "\n",
      "R3 - (-6.8)R4 -> R3:\n",
      "1.00\t0.00\t0.00\t0.00\t0.19\t-0.41\n",
      "0.00\t1.00\t0.00\t0.00\t-0.49\t-0.14\n",
      "0.00\t0.00\t1.00\t0.00\t-1.14\t0.25\n",
      "-0.00\t-0.00\t-0.00\t1.00\t-0.04\t-0.01\n",
      "0.00\t0.00\t0.00\t5.80\t-0.47\t0.33\n",
      "\n",
      "R5 - (5.8)R4 -> R5:\n",
      "1.00\t0.00\t0.00\t0.00\t0.19\t-0.41\n",
      "0.00\t1.00\t0.00\t0.00\t-0.49\t-0.14\n",
      "0.00\t0.00\t1.00\t0.00\t-1.14\t0.25\n",
      "-0.00\t-0.00\t-0.00\t1.00\t-0.04\t-0.01\n",
      "0.00\t0.00\t0.00\t0.00\t-0.23\t0.40\n",
      "\n",
      "R5 / -0.23021582733812954 -> R5:\n",
      "1.00\t0.00\t0.00\t0.00\t0.19\t-0.41\n",
      "0.00\t1.00\t0.00\t0.00\t-0.49\t-0.14\n",
      "0.00\t0.00\t1.00\t0.00\t-1.14\t0.25\n",
      "-0.00\t-0.00\t-0.00\t1.00\t-0.04\t-0.01\n",
      "-0.00\t-0.00\t-0.00\t-0.00\t1.00\t-1.75\n",
      "\n",
      "R1 - (0.18944844124700244)R5 -> R1:\n",
      "1.00\t0.00\t0.00\t0.00\t0.00\t-0.08\n",
      "0.00\t1.00\t0.00\t0.00\t-0.49\t-0.14\n",
      "0.00\t0.00\t1.00\t0.00\t-1.14\t0.25\n",
      "-0.00\t-0.00\t-0.00\t1.00\t-0.04\t-0.01\n",
      "-0.00\t-0.00\t-0.00\t-0.00\t1.00\t-1.75\n",
      "\n",
      "R2 - (-0.48920863309352514)R5 -> R2:\n",
      "1.00\t0.00\t0.00\t0.00\t0.00\t-0.08\n",
      "0.00\t1.00\t0.00\t0.00\t0.00\t-1.00\n",
      "0.00\t0.00\t1.00\t0.00\t-1.14\t0.25\n",
      "-0.00\t-0.00\t-0.00\t1.00\t-0.04\t-0.01\n",
      "-0.00\t-0.00\t-0.00\t-0.00\t1.00\t-1.75\n",
      "\n",
      "R3 - (-1.143884892086331)R5 -> R3:\n",
      "1.00\t0.00\t0.00\t0.00\t0.00\t-0.08\n",
      "0.00\t1.00\t0.00\t0.00\t0.00\t-1.00\n",
      "0.00\t0.00\t1.00\t0.00\t0.00\t-1.75\n",
      "-0.00\t-0.00\t-0.00\t1.00\t-0.04\t-0.01\n",
      "-0.00\t-0.00\t-0.00\t-0.00\t1.00\t-1.75\n",
      "\n",
      "R4 - (-0.040767386091127095)R5 -> R4:\n",
      "1.00\t0.00\t0.00\t0.00\t0.00\t-0.08\n",
      "0.00\t1.00\t0.00\t0.00\t0.00\t-1.00\n",
      "0.00\t0.00\t1.00\t0.00\t0.00\t-1.75\n",
      "-0.00\t-0.00\t-0.00\t1.00\t0.00\t-0.08\n",
      "-0.00\t-0.00\t-0.00\t-0.00\t1.00\t-1.75\n",
      "\n",
      "Row-reduced echelon form:\n",
      "1.00\t0.00\t0.00\t0.00\t0.00\t-0.08\n",
      "0.00\t1.00\t0.00\t0.00\t0.00\t-1.00\n",
      "0.00\t0.00\t1.00\t0.00\t0.00\t-1.75\n",
      "-0.00\t-0.00\t-0.00\t1.00\t0.00\t-0.08\n",
      "-0.00\t-0.00\t-0.00\t-0.00\t1.00\t-1.75\n",
      "\n"
     ]
    }
   ],
   "source": [
    "def row_reduce(matrix):\n",
    "    num_rows = len(matrix)\n",
    "    num_cols = len(matrix[0])\n",
    "\n",
    "    reduced_matrix = [row[:] for row in matrix]\n",
    "\n",
    "    for j in range(num_cols):\n",
    "        # Find the pivot row\n",
    "        pivot_row = max(range(j, num_rows), key=lambda i: abs(reduced_matrix[i][j]), default=None)\n",
    "\n",
    "        # If the maximum value in the column is 0, move on to the next column\n",
    "        if pivot_row is None or reduced_matrix[pivot_row][j] == 0:\n",
    "            continue\n",
    "\n",
    "        # Swap the pivot row with the current row if necessary\n",
    "        if pivot_row != j:\n",
    "            reduced_matrix[j], reduced_matrix[pivot_row] = reduced_matrix[pivot_row], reduced_matrix[j]\n",
    "            print(f\"Swap R{j+1} <--> R{pivot_row+1}:\")\n",
    "            print_matrix(reduced_matrix)\n",
    "\n",
    "        # Scale the current row so that the pivot is 1\n",
    "        pivot = reduced_matrix[j][j]\n",
    "        reduced_matrix[j] = [reduced_matrix[j][k] / pivot for k in range(num_cols)]\n",
    "        print(f\"R{j+1} / {pivot} -> R{j+1}:\")\n",
    "        print_matrix(reduced_matrix)\n",
    "\n",
    "        # Eliminate the pivot from all other rows\n",
    "        for i in range(num_rows):\n",
    "            if i != j:\n",
    "                factor = reduced_matrix[i][j]\n",
    "                reduced_matrix[i] = [reduced_matrix[i][k] - factor * reduced_matrix[j][k] for k in range(num_cols)]\n",
    "                print(f\"R{i+1} - ({factor})R{j+1} -> R{i+1}:\")\n",
    "                print_matrix(reduced_matrix)\n",
    "\n",
    "    return reduced_matrix\n",
    "\n",
    "\n",
    "def print_matrix(matrix):\n",
    "    for row in matrix:\n",
    "        print('\\t'.join('{:.2f}'.format(val) for val in row))\n",
    "    print('')\n",
    "    \n",
    "    \n",
    "matrix = [\n",
    "    [3, 8, 1, -12, -4, -2],\n",
    "    [1, 0, 0, -1, 0, 0],\n",
    "    [4, 4, 3, -40, -3, -1],\n",
    "    [0, 2, 1, -3, -2, 0],\n",
    "    [0, 1, 0, -12, 0, 0]\n",
    "]\n",
    "\n",
    "reduced_matrix = row_reduce(matrix)\n",
    "\n",
    "if reduced_matrix is not None:\n",
    "    print(\"Row-reduced echelon form:\")\n",
    "    print_matrix(reduced_matrix)\n"
   ]
  },
  {
   "cell_type": "code",
   "execution_count": 48,
   "id": "c814f9f8",
   "metadata": {},
   "outputs": [
    {
     "data": {
      "text/plain": [
       "array([ 1.        ,  0.        ,  0.        ,  0.        ,  0.        ,\n",
       "       -0.08333333])"
      ]
     },
     "execution_count": 48,
     "metadata": {},
     "output_type": "execute_result"
    }
   ],
   "source": [
    "reduced_matrix = np.array(reduced_matrix)\n",
    "reduced_matrix[0]"
   ]
  },
  {
   "cell_type": "code",
   "execution_count": 13,
   "id": "4a8a3c28",
   "metadata": {},
   "outputs": [
    {
     "data": {
      "text/plain": [
       "array([0. , 0. , 0.5, 0.5, 1. , 1. ])"
      ]
     },
     "execution_count": 13,
     "metadata": {},
     "output_type": "execute_result"
    }
   ],
   "source": [
    "import numpy as np\n",
    "def linear(u):\n",
    "    return u\n",
    "\n",
    "samples = np.linspace(0, 1, 3)\n",
    "v = np.vstack([samples, linear(samples)]).T.flatten()\n",
    "v"
   ]
  },
  {
   "cell_type": "code",
   "execution_count": 20,
   "id": "0cf1fbdb",
   "metadata": {},
   "outputs": [
    {
     "data": {
      "text/plain": [
       "array([[0. , 0. ],\n",
       "       [0.5, 0.5],\n",
       "       [1. , 1. ]])"
      ]
     },
     "execution_count": 20,
     "metadata": {},
     "output_type": "execute_result"
    }
   ],
   "source": [
    "v.reshape([int(len(v) / 2), 2])"
   ]
  },
  {
   "cell_type": "code",
   "execution_count": 1,
   "id": "c2b38f85",
   "metadata": {},
   "outputs": [
    {
     "name": "stdout",
     "output_type": "stream",
     "text": [
      "My name is Alice and I am 25 years old.\n"
     ]
    }
   ],
   "source": [
    "name = \"Alice\"\n",
    "age = 25\n",
    "print(f\"My name is {name} and I am {age} years old.\")\n"
   ]
  },
  {
   "cell_type": "code",
   "execution_count": 2,
   "id": "5505d056",
   "metadata": {},
   "outputs": [
    {
     "name": "stdout",
     "output_type": "stream",
     "text": [
      "pygame 2.3.0 (SDL 2.24.2, Python 3.10.0)\n",
      "Hello from the pygame community. https://www.pygame.org/contribute.html\n"
     ]
    },
    {
     "ename": "error",
     "evalue": "display Surface quit",
     "output_type": "error",
     "traceback": [
      "\u001b[0;31m---------------------------------------------------------------------------\u001b[0m",
      "\u001b[0;31merror\u001b[0m                                     Traceback (most recent call last)",
      "Input \u001b[0;32mIn [2]\u001b[0m, in \u001b[0;36m<cell line: 11>\u001b[0;34m()\u001b[0m\n\u001b[1;32m     19\u001b[0m     \u001b[38;5;28;01mif\u001b[39;00m event\u001b[38;5;241m.\u001b[39mtype \u001b[38;5;241m==\u001b[39m pygame\u001b[38;5;241m.\u001b[39mQUIT:\n\u001b[1;32m     20\u001b[0m         pygame\u001b[38;5;241m.\u001b[39mquit()\n\u001b[0;32m---> 22\u001b[0m \u001b[43mscreen\u001b[49m\u001b[38;5;241;43m.\u001b[39;49m\u001b[43mfill\u001b[49m\u001b[43m(\u001b[49m\u001b[43m(\u001b[49m\u001b[38;5;241;43m255\u001b[39;49m\u001b[43m,\u001b[49m\u001b[43m \u001b[49m\u001b[38;5;241;43m255\u001b[39;49m\u001b[43m,\u001b[49m\u001b[43m \u001b[49m\u001b[38;5;241;43m255\u001b[39;49m\u001b[43m)\u001b[49m\u001b[43m)\u001b[49m\n\u001b[1;32m     23\u001b[0m screen\u001b[38;5;241m.\u001b[39mblit(rotated_image, rect)\n\u001b[1;32m     24\u001b[0m pygame\u001b[38;5;241m.\u001b[39mdisplay\u001b[38;5;241m.\u001b[39mflip()\n",
      "\u001b[0;31merror\u001b[0m: display Surface quit"
     ]
    }
   ],
   "source": [
    "\n",
    "\n",
    "import pygame\n",
    "\n",
    "pygame.init()\n",
    "\n",
    "screen = pygame.display.set_mode((640, 480))\n",
    "clock = pygame.time.Clock()\n",
    "\n",
    "image = pygame.image.load('tiktok_logo.png')\n",
    "\n",
    "theta = 0\n",
    "while True:\n",
    "    theta += 6\n",
    "    rotated_image = pygame.transform.rotate(image, theta)\n",
    "\n",
    "    rect = rotated_image.get_rect(center=(320, 240))\n",
    "    rect.x += 100\n",
    "\n",
    "    for event in pygame.event.get():\n",
    "        if event.type == pygame.QUIT:\n",
    "            pygame.quit()\n",
    "\n",
    "    screen.fill((255, 255, 255))\n",
    "    screen.blit(rotated_image, rect)\n",
    "    pygame.display.flip()\n",
    "\n",
    "    clock.tick(60)\n"
   ]
  },
  {
   "cell_type": "code",
   "execution_count": null,
   "id": "d4b55fd6",
   "metadata": {},
   "outputs": [],
   "source": [
    "    # CLEAN ROTATION EXAMPLE        \n",
    "        # CLEAN ROTATION EXAMPLE\n",
    "            # CLEAN ROTATION EXAMPLE\n",
    "                # CLEAN ROTATION EXAMPLE\n",
    "                    # CLEAN ROTATION EXAMPLE\n",
    "    \n",
    "    \n",
    "    # Rotation.\n",
    "            # TODO: Figure out how to do clean rotation, because then you can apply angular velocity for this\n",
    "            # part of the animation. Honestly? This part is kinda the trickiest bit tbh. Everything else is just\n",
    "            # drawing parameterized curves of some sort tbh.\n",
    "            theta = u * 2 * np.pi\n",
    "\n",
    "            pts = rotate(pts, theta, anchor=center)\n",
    "            pygame.draw.polygon(window, darkgray, A_many(pts), 0)\n",
    "            pygame.draw.lines(window, white, False, A_many(pts), width=5)\n",
    "            rotated_logo = pygame.transform.rotate(logo, np.rad2deg(theta))\n",
    "            rotated_rekt = rotated_logo.get_rect(center=A(center))\n",
    "            window.blit(rotated_logo, rotated_rekt) # (0 - (rotated_logo.get_width() / 2), 0 - rotated_logo.get_height() / 2)"
   ]
  }
 ],
 "metadata": {
  "kernelspec": {
   "display_name": "Python 3 (ipykernel)",
   "language": "python",
   "name": "python3"
  },
  "language_info": {
   "codemirror_mode": {
    "name": "ipython",
    "version": 3
   },
   "file_extension": ".py",
   "mimetype": "text/x-python",
   "name": "python",
   "nbconvert_exporter": "python",
   "pygments_lexer": "ipython3",
   "version": "3.10.0"
  }
 },
 "nbformat": 4,
 "nbformat_minor": 5
}
